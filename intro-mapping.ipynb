{
 "cells": [
  {
   "cell_type": "markdown",
   "metadata": {
    "slideshow": {
     "slide_type": "slide"
    }
   },
   "source": [
    "# Mapping Slums with QGIS*\n",
    "## Monday, April 15, 2019, 10am-12pm\n",
    "\\* This document is adapted from a guide prepared by Sumedha Jalote for the Urban Observatory Team."
   ]
  },
  {
   "cell_type": "markdown",
   "metadata": {},
   "source": [
    "## This tutorial available at: https://github.com/bwbelljr/gu-mdi-workshop1/intro-mapping.html"
   ]
  },
  {
   "cell_type": "markdown",
   "metadata": {},
   "source": [
    "Zoom link (for sharing screens): https://georgetown.zoom.us/j/952273602"
   ]
  },
  {
   "cell_type": "markdown",
   "metadata": {},
   "source": [
    "### Outline\n",
    "* Installation (QGIS, Plugins, and exercise files)\n",
    "* Getting Started with QGIS (creating new project, finding locations in QGIS, working with vector and raster files)\n",
    "* Short break [10 min]\n",
    "* Mapping Slums (Describing Delhi context, exercises to map JJCs)\n",
    "* Publishing your map online (QGIS Cloud)\n",
    "* Exporting shapefile into multiple formats\n",
    "* Wrap Up and Further Resources"
   ]
  },
  {
   "cell_type": "markdown",
   "metadata": {
    "slideshow": {
     "slide_type": "slide"
    }
   },
   "source": [
    "# 1. Installation Instructions"
   ]
  },
  {
   "cell_type": "markdown",
   "metadata": {},
   "source": [
    "## Go to https://www.qgis.org/en/site/forusers/download.html"
   ]
  },
  {
   "cell_type": "markdown",
   "metadata": {},
   "source": [
    "## Download Installation file based on your machine (could take several minutes as files could be several hundred MB)"
   ]
  },
  {
   "cell_type": "markdown",
   "metadata": {},
   "source": [
    "* Windows 64 bit: http://qgis.org/downloads/QGIS-OSGeo4W-3.6.1-1-Setup-x86_64.exe\n",
    "* Windows 32 bit: http://qgis.org/downloads/QGIS-OSGeo4W-3.6.1-1-Setup-x86.exe\n",
    "* QGIS macOS Installer Version 3.6.1 http://qgis.org/downloads/macOS/QGIS-macOS-3.6.1-1.dmg\n",
    "* Other versions supported, including Linux"
   ]
  },
  {
   "cell_type": "markdown",
   "metadata": {
    "slideshow": {
     "slide_type": "slide"
    }
   },
   "source": [
    "## Click next to continue"
   ]
  },
  {
   "cell_type": "markdown",
   "metadata": {
    "slideshow": {
     "slide_type": "subslide"
    }
   },
   "source": [
    "<img src=\"images/QGIS_Install_1.PNG\" width=750 height=750>"
   ]
  },
  {
   "cell_type": "markdown",
   "metadata": {},
   "source": [
    "## Accept License Agreement"
   ]
  },
  {
   "cell_type": "markdown",
   "metadata": {},
   "source": [
    "<img src=\"images/QGIS_Install_2.PNG\" width=750 height=750>"
   ]
  },
  {
   "cell_type": "markdown",
   "metadata": {},
   "source": [
    "## Choose Default or Alternate Install Location"
   ]
  },
  {
   "cell_type": "markdown",
   "metadata": {},
   "source": [
    "<img src=\"images/QGIS_Install_3.PNG\" width=750 height=750>"
   ]
  },
  {
   "cell_type": "markdown",
   "metadata": {},
   "source": [
    "## Only choose QGIS for now - no additional datasets"
   ]
  },
  {
   "cell_type": "markdown",
   "metadata": {},
   "source": [
    "<img src=\"images/QGIS_Install_4.PNG\" width=750 height=750>"
   ]
  },
  {
   "cell_type": "markdown",
   "metadata": {},
   "source": [
    "## Installing should commence"
   ]
  },
  {
   "cell_type": "markdown",
   "metadata": {},
   "source": [
    "<img src=\"images/QGIS_Install_5.PNG\" width=750 height=750>"
   ]
  },
  {
   "cell_type": "markdown",
   "metadata": {},
   "source": [
    "## Click Finish"
   ]
  },
  {
   "cell_type": "markdown",
   "metadata": {},
   "source": [
    "<img src=\"images/QGIS_Install_6.PNG\" width=750 height=750>"
   ]
  },
  {
   "cell_type": "markdown",
   "metadata": {},
   "source": [
    "## Open \"QGIS Desktop 3.6.1\""
   ]
  },
  {
   "cell_type": "markdown",
   "metadata": {},
   "source": [
    "<img src=\"images/QGIS_Desktop.PNG\" width=750 height=750>"
   ]
  },
  {
   "cell_type": "markdown",
   "metadata": {},
   "source": [
    "## Plugins -> Manage and Install Plugins... -> Search for QuickMapServices and Install Plugin"
   ]
  },
  {
   "cell_type": "markdown",
   "metadata": {},
   "source": [
    "<img src=\"images/QMS_1.PNG\" width=750 height=750>"
   ]
  },
  {
   "cell_type": "markdown",
   "metadata": {},
   "source": [
    "## Search for Lat Lon Tools and Install Plugin"
   ]
  },
  {
   "cell_type": "markdown",
   "metadata": {},
   "source": [
    " <img src=\"images/LatLonPluginInstall.PNG\" width=750 height=750>"
   ]
  },
  {
   "cell_type": "markdown",
   "metadata": {},
   "source": [
    "## Search for QGIS Cloud and Install Plugin"
   ]
  },
  {
   "cell_type": "markdown",
   "metadata": {},
   "source": [
    " <img src=\"images/QGIS_Cloud_Plugin_Install.PNG\" width=750 height=750>"
   ]
  },
  {
   "cell_type": "markdown",
   "metadata": {},
   "source": [
    "In the same directory as your project, please download the following files:\n",
    "* https://github.com/bwbelljr/gu-mdi-workshop1/blob/master/gu_buildings.geojson\n",
    "* https://github.com/bwbelljr/gu-mdi-workshop1/blob/master/one_jjc.geojson\n",
    "* https://github.com/bwbelljr/gu-mdi-workshop1/blob/master/find_one_jjc.geojson\n",
    "* https://github.com/bwbelljr/gu-mdi-workshop1/blob/master/find_two_jjcs.geojson"
   ]
  },
  {
   "cell_type": "markdown",
   "metadata": {},
   "source": [
    "# 2. Getting Started with QGIS"
   ]
  },
  {
   "cell_type": "markdown",
   "metadata": {},
   "source": [
    "## Create New Project: Project -> New"
   ]
  },
  {
   "cell_type": "markdown",
   "metadata": {},
   "source": [
    " <img src=\"images/NewProject.PNG\" width=750 height=750>"
   ]
  },
  {
   "cell_type": "markdown",
   "metadata": {},
   "source": [
    "## Save New Project: Project -> Save (.qgz format)"
   ]
  },
  {
   "cell_type": "markdown",
   "metadata": {},
   "source": [
    "<img src=\"images/SaveNewProject.PNG\" width=750 height=750>"
   ]
  },
  {
   "cell_type": "markdown",
   "metadata": {},
   "source": [
    "## Adding Basemap (Raster Layer)\n",
    "* With GIS packages, you will generally work with two different types of files. \n",
    "* The first is a **raster** file, which in our case is a satellite or other aerial image (e.g., drone or plane photography). \n",
    "* This can be loaded from a web service (e.g., Google, Bing, Mapbox) or locally from a file (e.g., GeoTIFF).\n",
    "* We will start by loading satellite imagery from the free resource QuickMapServices which has archive imagery from a number of sources. (Note: you can use Google Maps but it will require API key and a credit card!)"
   ]
  },
  {
   "cell_type": "markdown",
   "metadata": {},
   "source": [
    "## Web -> QuickMapServices -> Search QMS and enter \"Google Satellite\" as search string"
   ]
  },
  {
   "cell_type": "markdown",
   "metadata": {},
   "source": [
    "<img src=\"images/qms_google_satellite.PNG\" width=750 height=750>"
   ]
  },
  {
   "cell_type": "markdown",
   "metadata": {},
   "source": [
    "## Navigate to Google Satellite and Click Add Button next to green dot. \n",
    "* A basemap should appear in the center window.\n",
    "* \"Google Satellite\" should appear in the Layers panel on the left."
   ]
  },
  {
   "cell_type": "markdown",
   "metadata": {},
   "source": [
    "<img src=\"images/google_satellite1.PNG\" width=750 height=750>"
   ]
  },
  {
   "cell_type": "markdown",
   "metadata": {},
   "source": [
    "## Plugins -> Lat Lon Tools -> Zoom to Latitude, Longitude. Lat Lon Panel should appear in bottom left.\n",
    "Note that QGIS has coordinates in long, lat format by default."
   ]
  },
  {
   "cell_type": "markdown",
   "metadata": {},
   "source": [
    "<img src=\"images/latlonpanel.PNG\" width=750 height=750>"
   ]
  },
  {
   "cell_type": "markdown",
   "metadata": {},
   "source": [
    "## Go to Google Maps (https://www.google.com/maps/), search for \"Georgetown University\", and click on the Satellite image."
   ]
  },
  {
   "cell_type": "markdown",
   "metadata": {},
   "source": [
    "<img src=\"images/gu_satellite1.PNG\" width=750 height=750>"
   ]
  },
  {
   "cell_type": "markdown",
   "metadata": {},
   "source": [
    "## Satellite Image should look like this."
   ]
  },
  {
   "cell_type": "markdown",
   "metadata": {},
   "source": [
    "<img src=\"images/gu_satellite2.PNG\" width=750 height=750>"
   ]
  },
  {
   "cell_type": "markdown",
   "metadata": {},
   "source": [
    "## Left Click on a section of map where there are no landmarks. A box should appear at the bottom with the general area of Washington, DC as well as latitude and longitude."
   ]
  },
  {
   "cell_type": "markdown",
   "metadata": {},
   "source": [
    "<img src=\"images/gu_satellite3.PNG\" width=750 height=750>"
   ]
  },
  {
   "cell_type": "markdown",
   "metadata": {},
   "source": [
    "## Copy latitude, longitude (example: 38.908642, -77.075411) and paste into QGIS Lat Lon Tools (bottom left of window). Zoom into this area."
   ]
  },
  {
   "cell_type": "markdown",
   "metadata": {},
   "source": [
    "<img src=\"images/gu_satellite4.PNG\" width=750 height=750>"
   ]
  },
  {
   "cell_type": "markdown",
   "metadata": {},
   "source": [
    "## The map on the QGIS screen should zoom to the location you entered. If it does not, try changing the projection of the basemap. In the same status bar, click on the information after ‘Render’."
   ]
  },
  {
   "cell_type": "markdown",
   "metadata": {},
   "source": [
    "## Import gu_buildings.geojson: Layer -> Add Layer -> gu_buildings.geojson (note: color may differ)"
   ]
  },
  {
   "cell_type": "markdown",
   "metadata": {},
   "source": [
    "<img src=\"images/gu_buildings1.PNG\" width=750 height=750>"
   ]
  },
  {
   "cell_type": "markdown",
   "metadata": {},
   "source": [
    "## Right Click on gu_buildings layer -> Zoom to Layer"
   ]
  },
  {
   "cell_type": "markdown",
   "metadata": {},
   "source": [
    "## Change Transparency of Layer: Right Click on gu_buildings > Properties > Symbology > Opacity. Set value to 50%. (feel free to experiment with values)"
   ]
  },
  {
   "cell_type": "markdown",
   "metadata": {},
   "source": [
    "<img src=\"images/gu_buildings2.PNG\" width=750 height=750>"
   ]
  },
  {
   "cell_type": "markdown",
   "metadata": {},
   "source": [
    "<img src=\"images/gu_buildings3.PNG\" width=750 height=750>"
   ]
  },
  {
   "cell_type": "markdown",
   "metadata": {},
   "source": [
    "## Create layer to outline boundary of a building of your choice: Layer -> Create Layer -> New Shapefile Layer"
   ]
  },
  {
   "cell_type": "markdown",
   "metadata": {},
   "source": [
    "<img src=\"images/new_shapefile_layer.PNG\" width=750 height=750>"
   ]
  },
  {
   "cell_type": "markdown",
   "metadata": {},
   "source": [
    "## In the dialogue box, Choose File Location/Name, Choose Polygon as Geometry Type, and CRS to \"Project CRS: EPSG: 3857 - WGS 84 / Pseudo-Mercator\""
   ]
  },
  {
   "cell_type": "markdown",
   "metadata": {},
   "source": [
    "<img src=\"images/gu_buildings4.PNG\" width=750 height=750>"
   ]
  },
  {
   "cell_type": "markdown",
   "metadata": {},
   "source": [
    "## When you click OK, you will be asked to save the new layer on your computer. Give the layer a name. QGIS will save several files on your computer to create this layer."
   ]
  },
  {
   "cell_type": "markdown",
   "metadata": {},
   "source": [
    "<img src=\"images/first_shapefile1.PNG\" width=750 height=750>"
   ]
  },
  {
   "cell_type": "markdown",
   "metadata": {},
   "source": [
    "## Right click on newly created vector layer -> \"Toggle Editing\" and Click \"Add Polygon Feature\""
   ]
  },
  {
   "cell_type": "markdown",
   "metadata": {},
   "source": [
    "<img src=\"images/toggle_editing1.PNG\" width=100 height=100>"
   ]
  },
  {
   "cell_type": "markdown",
   "metadata": {},
   "source": [
    "## Left click for each point in the polygon. When you are finished drawing the polygon, right click."
   ]
  },
  {
   "cell_type": "markdown",
   "metadata": {},
   "source": [
    "## Enter an ID number for the polygon"
   ]
  },
  {
   "cell_type": "markdown",
   "metadata": {},
   "source": [
    "<img src=\"images/first_polygon.PNG\" width=750 height=750>"
   ]
  },
  {
   "cell_type": "markdown",
   "metadata": {},
   "source": [
    "## Add a couple of other polygon layers"
   ]
  },
  {
   "cell_type": "markdown",
   "metadata": {},
   "source": [
    "<img src=\"images/first_polygon2.PNG\" width=750 height=750>"
   ]
  },
  {
   "cell_type": "markdown",
   "metadata": {},
   "source": [
    "## Toggle Editing and Save"
   ]
  },
  {
   "cell_type": "markdown",
   "metadata": {},
   "source": [
    "<img src=\"images/toggle_editing_save.PNG\" width=450 height=450>"
   ]
  },
  {
   "cell_type": "markdown",
   "metadata": {},
   "source": [
    "## Check geometries: Vector > Geometry Tools > Check Validity"
   ]
  },
  {
   "cell_type": "markdown",
   "metadata": {},
   "source": [
    "## Set Input Layer to Vector Layer you created and make sure that GEOS Standard is checked."
   ]
  },
  {
   "cell_type": "markdown",
   "metadata": {},
   "source": [
    "<img src=\"images/check_validity.PNG\" width=750 height=750>"
   ]
  },
  {
   "cell_type": "markdown",
   "metadata": {},
   "source": [
    "<img src=\"images/check_validity2.PNG\" width=750 height=750>"
   ]
  },
  {
   "cell_type": "markdown",
   "metadata": {},
   "source": [
    "## Check feature count: Right Click Layers -> Show Feature Count"
   ]
  },
  {
   "cell_type": "markdown",
   "metadata": {},
   "source": [
    "<img src=\"images/check_validity3.PNG\" width=750 height=750>"
   ]
  },
  {
   "cell_type": "markdown",
   "metadata": {},
   "source": [
    "## Show & Tell on Zoom!"
   ]
  },
  {
   "cell_type": "markdown",
   "metadata": {},
   "source": [
    "# 3. Mapping Slums in New Delhi"
   ]
  },
  {
   "cell_type": "markdown",
   "metadata": {},
   "source": [
    "locating and drawing the boundaries of one type of informal colony in New Delhi, We are locating jhuggi jhopri clusters (JJCs), which are one type of informal settlement in New Delhi."
   ]
  },
  {
   "cell_type": "markdown",
   "metadata": {},
   "source": [
    "Now, we start looking for the JJCs in the satellite imagery. The key here is to recognise that slum areas look different from their surrounding areas in satellite imagery. They are often:\n",
    "* More densely built\n",
    "* Less organised – you will not see roads, or any kind of layout pattern in these colonies.\n",
    "* Shorter – compared to their surroundings, slum areas have shorter buildings."
   ]
  },
  {
   "cell_type": "markdown",
   "metadata": {},
   "source": [
    "<img src=\"images/jjc_example.PNG\" width=750 height=750>"
   ]
  },
  {
   "cell_type": "markdown",
   "metadata": {},
   "source": [
    "In this image, the two areas outlined in red are denser than their surrounding areas, have shorter buildings, and show less organisation."
   ]
  },
  {
   "cell_type": "markdown",
   "metadata": {},
   "source": [
    "## Exercise 1: Show and Recreate JJC polygon"
   ]
  },
  {
   "cell_type": "markdown",
   "metadata": {},
   "source": [
    "## Add one_jjc.geojson layer"
   ]
  },
  {
   "cell_type": "markdown",
   "metadata": {},
   "source": [
    "## Set transparency: Right Click Layer -> Properties -> Symbology  -> Opacity"
   ]
  },
  {
   "cell_type": "markdown",
   "metadata": {},
   "source": [
    "## Zoom to Layer"
   ]
  },
  {
   "cell_type": "markdown",
   "metadata": {},
   "source": [
    "<img src=\"images/one_jjc.PNG\" width=750 height=750>"
   ]
  },
  {
   "cell_type": "markdown",
   "metadata": {},
   "source": [
    "## Do you see the JJC?"
   ]
  },
  {
   "cell_type": "markdown",
   "metadata": {},
   "source": [
    "## Make the vector layer invisible. Now, create a new layer where you draw the polygon for the JJC area."
   ]
  },
  {
   "cell_type": "markdown",
   "metadata": {},
   "source": [
    "## Show & Tell on Zoom!"
   ]
  },
  {
   "cell_type": "markdown",
   "metadata": {},
   "source": [
    "## Exercise 2: Find 1 JJC"
   ]
  },
  {
   "cell_type": "markdown",
   "metadata": {},
   "source": [
    "### Import find_one_jjc.geojson as a vector layer.\n",
    "### Order layer in panel, set transparency, etc.\n",
    "### Identify the JJC\n",
    "### Edit vector layer you just created and draw a polygon around the JJC.\n",
    "### Exit editing mode, save vector layer, and check geometries."
   ]
  },
  {
   "cell_type": "markdown",
   "metadata": {},
   "source": [
    "## Show & Tell on Zoom!"
   ]
  },
  {
   "cell_type": "markdown",
   "metadata": {},
   "source": [
    "## Exercise 3: Find 2 JJCs"
   ]
  },
  {
   "cell_type": "markdown",
   "metadata": {},
   "source": [
    "### Import find_two_jjcs.geojson as a vector layer.\n",
    "### Order layer in panel, set transparency, etc.\n",
    "### Identify the two JJCs\n",
    "### Edit vector layer you just created and draw a polygon around the JJCs.\n",
    "### Exit editing mode, save vector layer, and check geometries."
   ]
  },
  {
   "cell_type": "markdown",
   "metadata": {},
   "source": [
    "## Show & Tell on Zoom!"
   ]
  },
  {
   "cell_type": "markdown",
   "metadata": {},
   "source": [
    "# 4. Sharing a Web Map on QGIS Cloud"
   ]
  },
  {
   "cell_type": "markdown",
   "metadata": {},
   "source": [
    "## Go to qgiscloud.com"
   ]
  },
  {
   "cell_type": "markdown",
   "metadata": {},
   "source": [
    "<img src=\"images/qgis_cloud.PNG\" width=750 height=750>"
   ]
  },
  {
   "cell_type": "markdown",
   "metadata": {},
   "source": [
    "## Signup for an account. You should receive account verification via email."
   ]
  },
  {
   "cell_type": "markdown",
   "metadata": {},
   "source": [
    "## Go to Plugins -> Cloud -> Cloud Settings. QGIS Cloud Panel should appear in bottom left of QGIS Window."
   ]
  },
  {
   "cell_type": "markdown",
   "metadata": {},
   "source": [
    "<img src=\"images/qgis_cloud2.PNG\" width=750 height=750>"
   ]
  },
  {
   "cell_type": "markdown",
   "metadata": {},
   "source": [
    "## Click Login with account just created."
   ]
  },
  {
   "cell_type": "markdown",
   "metadata": {},
   "source": [
    "## Click on Account Tab and navigate to Databases. Click “Create.” A new database should be created…"
   ]
  },
  {
   "cell_type": "markdown",
   "metadata": {},
   "source": [
    "<img src=\"images/qgis_cloud3.PNG\" width=750 height=750>"
   ]
  },
  {
   "cell_type": "markdown",
   "metadata": {},
   "source": [
    "## Click on “Upload Data” tab -> Upload Data"
   ]
  },
  {
   "cell_type": "markdown",
   "metadata": {},
   "source": [
    "<img src=\"images/qgis_cloud4.PNG\" width=750 height=750>"
   ]
  },
  {
   "cell_type": "markdown",
   "metadata": {},
   "source": [
    "## Save Project"
   ]
  },
  {
   "cell_type": "markdown",
   "metadata": {},
   "source": [
    "<img src=\"images/qgis_cloud5.PNG\" width=750 height=750>"
   ]
  },
  {
   "cell_type": "markdown",
   "metadata": {},
   "source": [
    "## Click on “Maps” tab and click “Publish Map”"
   ]
  },
  {
   "cell_type": "markdown",
   "metadata": {},
   "source": [
    "<img src=\"images/qgis_cloud6.PNG\" width=750 height=750>"
   ]
  },
  {
   "cell_type": "markdown",
   "metadata": {},
   "source": [
    "## Click on the link next to “Webmap”"
   ]
  },
  {
   "cell_type": "markdown",
   "metadata": {},
   "source": [
    "<img src=\"images/qgis_cloud7.PNG\" width=750 height=750>"
   ]
  },
  {
   "cell_type": "markdown",
   "metadata": {},
   "source": [
    "## The link should open a map in your browser"
   ]
  },
  {
   "cell_type": "markdown",
   "metadata": {},
   "source": [
    "<img src=\"images/qgis_cloud8.PNG\" width=750 height=750>"
   ]
  },
  {
   "cell_type": "markdown",
   "metadata": {},
   "source": [
    "# 5. Exporting Shapefile as Multiple Formats"
   ]
  },
  {
   "cell_type": "markdown",
   "metadata": {},
   "source": [
    "## Export Vector Layer as .GEOJSON: Right Click on Vector Layer -> Export -> Save Features As... -> Specify File Name/Location and format (.KML). \n",
    "\n",
    "### This is useful for many GIS tools\n",
    "### Convenient as it replaces 6 shapefiles created by QGIS."
   ]
  },
  {
   "cell_type": "markdown",
   "metadata": {},
   "source": [
    "## Export Vector Layer as .KML: Right Click on Vector Layer -> Export -> Save Features As... -> Specify File Name/Location and format (.KML). \n",
    "### This is useful for Google Earth."
   ]
  },
  {
   "cell_type": "markdown",
   "metadata": {},
   "source": [
    "# 6. Downloading additional geospatial data from the web"
   ]
  },
  {
   "cell_type": "markdown",
   "metadata": {},
   "source": [
    "## Google Dataset Search"
   ]
  },
  {
   "cell_type": "markdown",
   "metadata": {},
   "source": [
    "<img src=\"images/google_dataset_search.PNG\" width=750 height=750>"
   ]
  },
  {
   "cell_type": "markdown",
   "metadata": {},
   "source": [
    "## OpenStreetMap"
   ]
  },
  {
   "cell_type": "markdown",
   "metadata": {},
   "source": [
    "<img src=\"images/osm.PNG\" width=750 height=750>"
   ]
  },
  {
   "cell_type": "markdown",
   "metadata": {},
   "source": [
    "# 7. Further Resources:\n",
    "### QGIS Training Manual: https://docs.qgis.org/3.4/en/docs/training_manual/index.html\n",
    "### QGIS Tutorials: https://www.qgistutorials.com/en/\n",
    "### An Introduction to GIS using QGIS (3.0): https://mltconsecol.github.io/QGIS-Tutorial/QGIS-Tutorial/Treglia_QGIS_Tutorial_3_0.pdf\n",
    "### Datapolitan Training: http://training.datapolitan.com/#intro-open-source-mapping"
   ]
  },
  {
   "cell_type": "markdown",
   "metadata": {},
   "source": [
    "We have started with slums. However, we will be mapping different things for which we could use a hand. Feel free to:\n",
    "* buildings\n",
    "* roads\n",
    "* cars\n",
    "* trees, vegetation"
   ]
  }
 ],
 "metadata": {
  "kernelspec": {
   "display_name": "Python 3",
   "language": "python",
   "name": "python3"
  },
  "language_info": {
   "codemirror_mode": {
    "name": "ipython",
    "version": 3
   },
   "file_extension": ".py",
   "mimetype": "text/x-python",
   "name": "python",
   "nbconvert_exporter": "python",
   "pygments_lexer": "ipython3",
   "version": "3.6.6"
  }
 },
 "nbformat": 4,
 "nbformat_minor": 2
}
